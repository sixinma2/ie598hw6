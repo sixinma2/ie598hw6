{
 "cells": [
  {
   "cell_type": "code",
   "execution_count": 13,
   "metadata": {},
   "outputs": [
    {
     "name": "stdout",
     "output_type": "stream",
     "text": [
      "(30000, 25)\n"
     ]
    }
   ],
   "source": [
    "import pandas as pd\n",
    "df=pd.read_csv('/Users/masixin/Documents/msfe/ie598/hw6/ccdefault.csv')\n",
    "print(df.shape)"
   ]
  },
  {
   "cell_type": "code",
   "execution_count": 28,
   "metadata": {},
   "outputs": [],
   "source": [
    "from sklearn.tree import DecisionTreeClassifier\n",
    "from sklearn import preprocessing\n",
    "from sklearn.model_selection import train_test_split\n",
    "from sklearn.metrics import accuracy_score\n",
    "from sklearn.model_selection import cross_val_score\n",
    "import timeit\n",
    "import numpy as np\n",
    "train_accuracy = []\n",
    "test_accuracy = []\n",
    "start = timeit.default_timer()\n",
    "X=df.iloc[:,1:23]\n",
    "y=df.iloc[:,-1]\n",
    "k_range=range(1,10)\n",
    "for k in k_range:\n",
    "    X_train, X_test, y_train, y_test = train_test_split(X,y,test_size=0.1,random_state=k)\n",
    "    tree = DecisionTreeClassifier()\n",
    "    tree.fit(X_train,y_train)\n",
    "    train_pred = tree.predict(X_train)\n",
    "    train_accuracy.append(accuracy_score(y_train, train_pred))\n",
    "    test_pred=tree.predict(X_test)\n",
    "    test_accuracy.append(accuracy_score(y_test, test_pred))\n",
    "end = timeit.default_timer()"
   ]
  },
  {
   "cell_type": "code",
   "execution_count": 38,
   "metadata": {},
   "outputs": [
    {
     "data": {
      "text/html": [
       "<div>\n",
       "<style scoped>\n",
       "    .dataframe tbody tr th:only-of-type {\n",
       "        vertical-align: middle;\n",
       "    }\n",
       "\n",
       "    .dataframe tbody tr th {\n",
       "        vertical-align: top;\n",
       "    }\n",
       "\n",
       "    .dataframe thead th {\n",
       "        text-align: right;\n",
       "    }\n",
       "</style>\n",
       "<table border=\"1\" class=\"dataframe\">\n",
       "  <thead>\n",
       "    <tr style=\"text-align: right;\">\n",
       "      <th></th>\n",
       "      <th>1</th>\n",
       "      <th>2</th>\n",
       "      <th>3</th>\n",
       "      <th>4</th>\n",
       "      <th>5</th>\n",
       "      <th>6</th>\n",
       "      <th>7</th>\n",
       "      <th>8</th>\n",
       "      <th>9</th>\n",
       "      <th>Mean</th>\n",
       "      <th>Standard Deviation</th>\n",
       "    </tr>\n",
       "  </thead>\n",
       "  <tbody>\n",
       "    <tr>\n",
       "      <th>Train</th>\n",
       "      <td>0.999296</td>\n",
       "      <td>0.999333</td>\n",
       "      <td>0.999333</td>\n",
       "      <td>0.999296</td>\n",
       "      <td>0.999333</td>\n",
       "      <td>0.999370</td>\n",
       "      <td>0.999296</td>\n",
       "      <td>0.999222</td>\n",
       "      <td>0.999481</td>\n",
       "      <td>0.999329</td>\n",
       "      <td>0.000066</td>\n",
       "    </tr>\n",
       "    <tr>\n",
       "      <th>Test</th>\n",
       "      <td>0.715667</td>\n",
       "      <td>0.733000</td>\n",
       "      <td>0.729667</td>\n",
       "      <td>0.715333</td>\n",
       "      <td>0.725333</td>\n",
       "      <td>0.714333</td>\n",
       "      <td>0.723000</td>\n",
       "      <td>0.725333</td>\n",
       "      <td>0.729333</td>\n",
       "      <td>0.723444</td>\n",
       "      <td>0.006509</td>\n",
       "    </tr>\n",
       "  </tbody>\n",
       "</table>\n",
       "</div>"
      ],
      "text/plain": [
       "              1         2         3         4         5         6         7  \\\n",
       "Train  0.999296  0.999333  0.999333  0.999296  0.999333  0.999370  0.999296   \n",
       "Test   0.715667  0.733000  0.729667  0.715333  0.725333  0.714333  0.723000   \n",
       "\n",
       "              8         9      Mean  Standard Deviation  \n",
       "Train  0.999222  0.999481  0.999329            0.000066  \n",
       "Test   0.725333  0.729333  0.723444            0.006509  "
      ]
     },
     "execution_count": 38,
     "metadata": {},
     "output_type": "execute_result"
    }
   ],
   "source": [
    "train_rs = list(train_accuracy)\n",
    "train_rs.append(np.mean(train_accuracy))\n",
    "train_rs.append(np.std(train_accuracy))\n",
    "test_rs = list(test_accuracy)\n",
    "test_rs.append(np.mean(test_accuracy))\n",
    "test_rs.append(np.std(test_accuracy))\n",
    "rs = pd.DataFrame(np.array([train_rs,test_rs]),columns = ['1','2','3','4','5','6','7','8','9','Mean','Standard Deviation'])\n",
    "rs.rename(index={0:'Train',1:'Test'}, inplace=True)\n",
    "rs"
   ]
  },
  {
   "cell_type": "code",
   "execution_count": 41,
   "metadata": {},
   "outputs": [
    {
     "name": "stdout",
     "output_type": "stream",
     "text": [
      "Time:  -53.71387\n"
     ]
    }
   ],
   "source": [
    "print('Time: ', round((end - start),5)) "
   ]
  },
  {
   "cell_type": "code",
   "execution_count": 42,
   "metadata": {},
   "outputs": [
    {
     "data": {
      "text/html": [
       "<div>\n",
       "<style scoped>\n",
       "    .dataframe tbody tr th:only-of-type {\n",
       "        vertical-align: middle;\n",
       "    }\n",
       "\n",
       "    .dataframe tbody tr th {\n",
       "        vertical-align: top;\n",
       "    }\n",
       "\n",
       "    .dataframe thead th {\n",
       "        text-align: right;\n",
       "    }\n",
       "</style>\n",
       "<table border=\"1\" class=\"dataframe\">\n",
       "  <thead>\n",
       "    <tr style=\"text-align: right;\">\n",
       "      <th></th>\n",
       "      <th>1</th>\n",
       "      <th>2</th>\n",
       "      <th>3</th>\n",
       "      <th>4</th>\n",
       "      <th>5</th>\n",
       "      <th>6</th>\n",
       "      <th>7</th>\n",
       "      <th>8</th>\n",
       "      <th>9</th>\n",
       "      <th>10</th>\n",
       "      <th>Mean</th>\n",
       "      <th>Standard Deviation</th>\n",
       "    </tr>\n",
       "  </thead>\n",
       "  <tbody>\n",
       "    <tr>\n",
       "      <th>Train</th>\n",
       "      <td>0.72270</td>\n",
       "      <td>0.72270</td>\n",
       "      <td>0.7137</td>\n",
       "      <td>0.72148</td>\n",
       "      <td>0.72444</td>\n",
       "      <td>0.72778</td>\n",
       "      <td>0.72074</td>\n",
       "      <td>0.72481</td>\n",
       "      <td>0.73694</td>\n",
       "      <td>0.72286</td>\n",
       "      <td>0.723815</td>\n",
       "      <td>0.005568</td>\n",
       "    </tr>\n",
       "    <tr>\n",
       "      <th>Test</th>\n",
       "      <td>0.66777</td>\n",
       "      <td>0.69435</td>\n",
       "      <td>0.7100</td>\n",
       "      <td>0.69000</td>\n",
       "      <td>0.71667</td>\n",
       "      <td>0.73333</td>\n",
       "      <td>0.72333</td>\n",
       "      <td>0.71667</td>\n",
       "      <td>0.69900</td>\n",
       "      <td>0.70569</td>\n",
       "      <td>0.705681</td>\n",
       "      <td>0.017867</td>\n",
       "    </tr>\n",
       "  </tbody>\n",
       "</table>\n",
       "</div>"
      ],
      "text/plain": [
       "             1        2       3        4        5        6        7        8  \\\n",
       "Train  0.72270  0.72270  0.7137  0.72148  0.72444  0.72778  0.72074  0.72481   \n",
       "Test   0.66777  0.69435  0.7100  0.69000  0.71667  0.73333  0.72333  0.71667   \n",
       "\n",
       "             9       10      Mean  Standard Deviation  \n",
       "Train  0.73694  0.72286  0.723815            0.005568  \n",
       "Test   0.69900  0.70569  0.705681            0.017867  "
      ]
     },
     "execution_count": 42,
     "metadata": {},
     "output_type": "execute_result"
    }
   ],
   "source": [
    "from sklearn.model_selection import cross_val_score\n",
    "start = timeit.default_timer()\n",
    "tree = DecisionTreeClassifier()\n",
    "tree.fit(X_train, y_train)\n",
    "y_pred_test=tree.predict(X_test)\n",
    "y_pred_train=tree.predict(X_train)\n",
    "train_acc = np.round(cross_val_score(tree,X=X_train,y=y_train,cv=10,n_jobs=-1),5)\n",
    "test_acc = np.round(cross_val_score(tree,X=X_test,y=y_test,cv=10,n_jobs=-1),5)\n",
    "end = timeit.default_timer()\n",
    "train_rs_cv = list(train_acc)\n",
    "train_rs_cv.append(np.mean(train_acc))\n",
    "train_rs_cv.append(np.std(train_acc))\n",
    "test_rs_cv = list(test_acc)\n",
    "test_rs_cv.append(np.mean(test_acc))\n",
    "test_rs_cv.append(np.std(test_acc))\n",
    "rs_cv = pd.DataFrame(np.array([train_rs_cv,test_rs_cv]),columns = ['1','2','3','4','5','6','7','8','9','10','Mean','Standard Deviation'])\n",
    "rs_cv.rename(index={0:'Train',1:'Test'}, inplace=True)\n",
    "rs_cv"
   ]
  },
  {
   "cell_type": "code",
   "execution_count": 47,
   "metadata": {},
   "outputs": [
    {
     "name": "stdout",
     "output_type": "stream",
     "text": [
      "Time:  7.0158\n"
     ]
    }
   ],
   "source": [
    "print('Time: ', round((end - start),5)) "
   ]
  },
  {
   "cell_type": "code",
   "execution_count": 45,
   "metadata": {},
   "outputs": [
    {
     "name": "stdout",
     "output_type": "stream",
     "text": [
      "My name is {Sixin Ma}\n",
      "My NetID is: {sixinma2}\n",
      "I hereby certify that I have read the University policy on Academic Integrity and that I am not in violation.\n"
     ]
    }
   ],
   "source": [
    "print(\"My name is {Sixin Ma}\")\n",
    "print(\"My NetID is: {sixinma2}\")\n",
    "print(\"I hereby certify that I have read the University policy on Academic Integrity and that I am not in violation.\")"
   ]
  },
  {
   "cell_type": "code",
   "execution_count": null,
   "metadata": {},
   "outputs": [],
   "source": []
  }
 ],
 "metadata": {
  "kernelspec": {
   "display_name": "Python 3",
   "language": "python",
   "name": "python3"
  },
  "language_info": {
   "codemirror_mode": {
    "name": "ipython",
    "version": 3
   },
   "file_extension": ".py",
   "mimetype": "text/x-python",
   "name": "python",
   "nbconvert_exporter": "python",
   "pygments_lexer": "ipython3",
   "version": "3.7.3"
  }
 },
 "nbformat": 4,
 "nbformat_minor": 2
}
